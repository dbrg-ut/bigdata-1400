{
 "cells": [
  {
   "cell_type": "code",
   "execution_count": 2,
   "metadata": {},
   "outputs": [
    {
     "name": "stdout",
     "output_type": "stream",
     "text": [
      "Collecting pandas\n",
      "  Downloading pandas-1.3.5-cp38-cp38-manylinux_2_17_x86_64.manylinux2014_x86_64.whl (11.5 MB)\n",
      "\u001b[K     |████████████████████████████████| 11.5 MB 76 kB/s  eta 0:00:01\n",
      "\u001b[?25hCollecting numpy>=1.17.3; platform_machine != \"aarch64\" and platform_machine != \"arm64\" and python_version < \"3.10\"\n",
      "  Downloading numpy-1.21.4-cp38-cp38-manylinux_2_12_x86_64.manylinux2010_x86_64.whl (15.7 MB)\n",
      "\u001b[K     |████████████████████████████████| 15.7 MB 724 kB/s eta 0:00:01\n",
      "\u001b[?25hCollecting pytz>=2017.3\n",
      "  Downloading pytz-2021.3-py2.py3-none-any.whl (503 kB)\n",
      "\u001b[K     |████████████████████████████████| 503 kB 2.6 MB/s eta 0:00:01\n",
      "\u001b[?25hRequirement already satisfied: python-dateutil>=2.7.3 in /usr/local/lib/python3.8/dist-packages (from pandas) (2.8.2)\n",
      "Requirement already satisfied: six>=1.5 in /usr/lib/python3/dist-packages (from python-dateutil>=2.7.3->pandas) (1.14.0)\n",
      "Installing collected packages: numpy, pytz, pandas\n",
      "Successfully installed numpy-1.21.4 pandas-1.3.5 pytz-2021.3\n"
     ]
    }
   ],
   "source": [
    "! pip3 install pandas"
   ]
  },
  {
   "cell_type": "code",
   "execution_count": 3,
   "metadata": {},
   "outputs": [],
   "source": [
    "import pandas as pd"
   ]
  },
  {
   "cell_type": "code",
   "execution_count": 1,
   "metadata": {},
   "outputs": [],
   "source": [
    "# import findspark\n",
    "\n",
    "# findspark.init()"
   ]
  },
  {
   "cell_type": "code",
   "execution_count": 4,
   "metadata": {},
   "outputs": [],
   "source": [
    "import pyspark\n",
    "\n",
    "from pyspark.sql import SparkSession"
   ]
  },
  {
   "cell_type": "code",
   "execution_count": 6,
   "metadata": {},
   "outputs": [],
   "source": [
    "spark=SparkSession.builder.master('spark://DESKTOP-HSK5ETQ.localdomain:7077').appName('Step1-Word-Processing').getOrCreate()"
   ]
  },
  {
   "cell_type": "markdown",
   "metadata": {},
   "source": [
    "### Word Count"
   ]
  },
  {
   "cell_type": "code",
   "execution_count": 7,
   "metadata": {},
   "outputs": [
    {
     "name": "stderr",
     "output_type": "stream",
     "text": [
      "21/12/19 16:49:27 WARN TaskSchedulerImpl: Initial job has not accepted any resources; check your cluster UI to ensure that workers are registered and have sufficient resources\n",
      "21/12/19 16:49:42 WARN TaskSchedulerImpl: Initial job has not accepted any resources; check your cluster UI to ensure that workers are registered and have sufficient resources\n",
      "21/12/19 16:49:57 WARN TaskSchedulerImpl: Initial job has not accepted any resources; check your cluster UI to ensure that workers are registered and have sufficient resources\n",
      "21/12/19 16:50:12 WARN TaskSchedulerImpl: Initial job has not accepted any resources; check your cluster UI to ensure that workers are registered and have sufficient resources\n",
      "21/12/19 16:50:27 WARN TaskSchedulerImpl: Initial job has not accepted any resources; check your cluster UI to ensure that workers are registered and have sufficient resources\n",
      "21/12/19 16:50:42 WARN TaskSchedulerImpl: Initial job has not accepted any resources; check your cluster UI to ensure that workers are registered and have sufficient resources\n",
      "21/12/19 16:50:57 WARN TaskSchedulerImpl: Initial job has not accepted any resources; check your cluster UI to ensure that workers are registered and have sufficient resources\n",
      "                                                                                \r"
     ]
    },
    {
     "data": {
      "text/plain": [
       "[('TotalWords', 23151)]"
      ]
     },
     "execution_count": 7,
     "metadata": {},
     "output_type": "execute_result"
    }
   ],
   "source": [
    "file_path = \"./data/news.txt\"\n",
    "text_file = spark.sparkContext.textFile(file_path)\n",
    "\n",
    "def clean_punc(x):\n",
    "  punc='!\"”“#$%&\\'()*+,./:;<=>?@[\\\\]^_`{|}~-0123456789۰۱۲۳۴۵۶۷۸۹'\n",
    "  for ch in punc:\n",
    "    x = x.replace(ch, '')\n",
    "  x=x.replace('‌','')\n",
    "  return x.strip()\n",
    "\n",
    "text_file = text_file.map(clean_punc)\n",
    "words = text_file.flatMap(lambda line: line.split(\" \"))\n",
    "words = words.filter(lambda x:x!='')\n",
    "wordCounts_rdd = words.map(lambda  word:('TotalWords',1))\n",
    "wordCounts = wordCounts_rdd.reduceByKey(lambda a,b:a+b).collect()\n",
    "wordCounts\n"
   ]
  },
  {
   "cell_type": "code",
   "execution_count": 8,
   "metadata": {},
   "outputs": [
    {
     "data": {
      "text/plain": [
       "['فاطمی',\n",
       " 'امین',\n",
       " 'را',\n",
       " 'بیشتر',\n",
       " 'با',\n",
       " 'ستاد',\n",
       " 'تبصره',\n",
       " 'میشناسند،',\n",
       " 'ستادی',\n",
       " 'که']"
      ]
     },
     "execution_count": 8,
     "metadata": {},
     "output_type": "execute_result"
    }
   ],
   "source": [
    "words.take(10)"
   ]
  },
  {
   "cell_type": "code",
   "execution_count": 10,
   "metadata": {},
   "outputs": [
    {
     "name": "stdout",
     "output_type": "stream",
     "text": [
      "[('فاطمی', 1), ('امین', 1), ('را', 1), ('بیشتر', 1), ('با', 1), ('ستاد', 1), ('تبصره', 1), ('میشناسند،', 1), ('ستادی', 1), ('که', 1)]\n"
     ]
    },
    {
     "data": {
      "text/plain": [
       "[('و', 1035),\n",
       " ('در', 933),\n",
       " ('به', 618),\n",
       " ('از', 572),\n",
       " ('این', 524),\n",
       " ('که', 510),\n",
       " ('است', 392),\n",
       " ('را', 359),\n",
       " ('با', 307),\n",
       " ('برای', 168),\n",
       " ('کشور', 136),\n",
       " ('بر', 112),\n",
       " ('آن', 109),\n",
       " ('یک', 105),\n",
       " ('دولت', 97),\n",
       " ('خود', 95),\n",
       " ('شده', 94),\n",
       " ('هم', 82),\n",
       " ('قرار', 81),\n",
       " ('تا', 78)]"
      ]
     },
     "execution_count": 10,
     "metadata": {},
     "output_type": "execute_result"
    }
   ],
   "source": [
    "word_pairs = words.map(lambda  word:(word,1))\n",
    "print(word_pairs.take(10))\n",
    "wordCounts = word_pairs.reduceByKey(lambda a,b:a+b).sortBy(lambda a: -a[1])\n",
    "results=wordCounts.take(20)\n",
    "results"
   ]
  },
  {
   "cell_type": "code",
   "execution_count": 11,
   "metadata": {},
   "outputs": [
    {
     "data": {
      "text/plain": [
       "['و',\n",
       " 'در',\n",
       " 'به',\n",
       " 'از',\n",
       " 'این',\n",
       " 'که',\n",
       " 'است',\n",
       " 'را',\n",
       " 'با',\n",
       " 'برای',\n",
       " 'کشور',\n",
       " 'بر',\n",
       " 'آن',\n",
       " 'یک',\n",
       " 'دولت',\n",
       " 'خود',\n",
       " 'شده',\n",
       " 'هم',\n",
       " 'قرار',\n",
       " 'تا']"
      ]
     },
     "execution_count": 11,
     "metadata": {},
     "output_type": "execute_result"
    }
   ],
   "source": [
    "stop_words=wordCounts.map(lambda w : w[0]).take(20)\n",
    "stop_words"
   ]
  },
  {
   "cell_type": "markdown",
   "metadata": {},
   "source": [
    "#### Bigrams"
   ]
  },
  {
   "cell_type": "code",
   "execution_count": 13,
   "metadata": {},
   "outputs": [
    {
     "name": "stdout",
     "output_type": "stream",
     "text": [
      "خدایا چنان کن سرانجام کار که تو خوشنود باشی و ما رستگار\n",
      "['خدایا', 'چنان', 'کن', 'سرانجام', 'کار', 'تو', 'خوشنود', 'باشی', 'ما']\n",
      "['چنان', 'کن', 'سرانجام', 'کار', 'تو', 'خوشنود', 'باشی', 'ما', 'رستگار']\n",
      "--------------------------------------------------\n"
     ]
    },
    {
     "data": {
      "text/plain": [
       "[('خدایا', 'چنان'),\n",
       " ('چنان', 'کن'),\n",
       " ('کن', 'سرانجام'),\n",
       " ('سرانجام', 'کار'),\n",
       " ('کار', 'تو'),\n",
       " ('تو', 'خوشنود'),\n",
       " ('خوشنود', 'باشی'),\n",
       " ('باشی', 'ما'),\n",
       " ('ما', 'رستگار')]"
      ]
     },
     "execution_count": 13,
     "metadata": {},
     "output_type": "execute_result"
    }
   ],
   "source": [
    "line=\"خدایا چنان کن سرانجام کار که تو خوشنود باشی و ما رستگار\"\n",
    "print(line)\n",
    "words=[w for w in line.split(\" \") if w not in stop_words and len(w.strip())>1]\n",
    "print(words[:-1])\n",
    "print(words[1:])\n",
    "print(\"-\"*50)\n",
    "bigrams= [(w1,w2) for w1,w2 in zip(words[:-1],words[1:])]\n",
    "bigrams"
   ]
  },
  {
   "cell_type": "code",
   "execution_count": 14,
   "metadata": {},
   "outputs": [],
   "source": [
    "def get_bigrams(line):\n",
    "    words=[w for w in line.split(\" \") if w not in stop_words and len(w.strip())>1]\n",
    "    bigrams= [(w1,w2) for w1,w2 in zip(words[:-1],words[1:])]\n",
    "    return bigrams"
   ]
  },
  {
   "cell_type": "code",
   "execution_count": 15,
   "metadata": {},
   "outputs": [
    {
     "data": {
      "text/plain": [
       "[(('بورس', 'کالا'), 26),\n",
       " (('قیمتهای', 'پایه'), 21),\n",
       " (('نشان', 'میدهد'), 19),\n",
       " (('فاطمی', 'امین'), 18),\n",
       " (('سال', 'گذشته'), 17),\n",
       " (('خواهد', 'بود'), 15),\n",
       " (('بازار', 'سیمان'), 14),\n",
       " (('داشته', 'باشد'), 13),\n",
       " (('تامین', 'مالی'), 13),\n",
       " (('حکمرانی', 'آب'), 12),\n",
       " (('وزرای', 'پیشنهادی'), 12),\n",
       " (('میلیارد', 'دلار'), 12),\n",
       " (('خواهد', 'شد'), 11),\n",
       " (('وجود', 'دارد'), 11),\n",
       " (('وزیر', 'صمت'), 10),\n",
       " (('ایران', 'خودرو'), 10),\n",
       " (('نظر', 'میرسد'), 9),\n",
       " (('مدیریت', 'آب'), 9),\n",
       " (('سیستم', 'حکمرانی'), 9),\n",
       " (('رای', 'اعتماد'), 9),\n",
       " (('رشد', 'اقتصادی'), 9),\n",
       " (('تحت', 'تاثیر'), 8),\n",
       " (('خودروهای', 'فرسوده'), 8),\n",
       " (('وزارت', 'صنعت،'), 8),\n",
       " (('صنعت،', 'معدن'), 8),\n",
       " (('معدن', 'تجارت'), 8),\n",
       " (('واردات', 'خودرو'), 8),\n",
       " (('وجود', 'ندارد'), 8),\n",
       " (('تامین', 'انرژی'), 7),\n",
       " (('داشته', 'باشند'), 7),\n",
       " (('امنیت', 'آبی'), 7),\n",
       " (('مجلس', 'شورای'), 7),\n",
       " (('قیمت', 'پایه'), 7),\n",
       " (('رضایت', 'مشتریان'), 6),\n",
       " (('همین', 'دلیل'), 6),\n",
       " (('عرضه', 'تقاضا'), 6),\n",
       " (('هزار', 'تن'), 6),\n",
       " (('صمت', 'سیزدهم'), 6),\n",
       " (('چهار', 'ماه'), 6),\n",
       " (('مدت', 'مشابه'), 6),\n",
       " (('مشابه', 'سال'), 6),\n",
       " (('حدود', 'درصد'), 6),\n",
       " (('کمبود', 'منابع'), 6),\n",
       " (('قطعی', 'برق'), 6),\n",
       " (('سراسر', 'جهان'), 6)]"
      ]
     },
     "execution_count": 15,
     "metadata": {},
     "output_type": "execute_result"
    }
   ],
   "source": [
    "bigrams = text_file.flatMap(get_bigrams)\\\n",
    "            .map(lambda bigram : (bigram,1)) \\\n",
    "            .reduceByKey(lambda a,b : a+b) \\\n",
    "            .filter(lambda x : x[1] > 5)\\\n",
    "            .sortBy(lambda x : -x[1]) \n",
    "            \n",
    "\n",
    "bigrams.collect()\n"
   ]
  },
  {
   "cell_type": "code",
   "execution_count": 16,
   "metadata": {},
   "outputs": [
    {
     "data": {
      "text/html": [
       "<div>\n",
       "<style scoped>\n",
       "    .dataframe tbody tr th:only-of-type {\n",
       "        vertical-align: middle;\n",
       "    }\n",
       "\n",
       "    .dataframe tbody tr th {\n",
       "        vertical-align: top;\n",
       "    }\n",
       "\n",
       "    .dataframe thead th {\n",
       "        text-align: right;\n",
       "    }\n",
       "</style>\n",
       "<table border=\"1\" class=\"dataframe\">\n",
       "  <thead>\n",
       "    <tr style=\"text-align: right;\">\n",
       "      <th></th>\n",
       "      <th>Bigram</th>\n",
       "      <th>Count</th>\n",
       "    </tr>\n",
       "  </thead>\n",
       "  <tbody>\n",
       "    <tr>\n",
       "      <th>0</th>\n",
       "      <td>(بورس, کالا)</td>\n",
       "      <td>26</td>\n",
       "    </tr>\n",
       "    <tr>\n",
       "      <th>1</th>\n",
       "      <td>(قیمتهای, پایه)</td>\n",
       "      <td>21</td>\n",
       "    </tr>\n",
       "    <tr>\n",
       "      <th>2</th>\n",
       "      <td>(نشان, میدهد)</td>\n",
       "      <td>19</td>\n",
       "    </tr>\n",
       "    <tr>\n",
       "      <th>3</th>\n",
       "      <td>(فاطمی, امین)</td>\n",
       "      <td>18</td>\n",
       "    </tr>\n",
       "    <tr>\n",
       "      <th>4</th>\n",
       "      <td>(سال, گذشته)</td>\n",
       "      <td>17</td>\n",
       "    </tr>\n",
       "    <tr>\n",
       "      <th>5</th>\n",
       "      <td>(خواهد, بود)</td>\n",
       "      <td>15</td>\n",
       "    </tr>\n",
       "    <tr>\n",
       "      <th>6</th>\n",
       "      <td>(بازار, سیمان)</td>\n",
       "      <td>14</td>\n",
       "    </tr>\n",
       "    <tr>\n",
       "      <th>7</th>\n",
       "      <td>(داشته, باشد)</td>\n",
       "      <td>13</td>\n",
       "    </tr>\n",
       "    <tr>\n",
       "      <th>8</th>\n",
       "      <td>(تامین, مالی)</td>\n",
       "      <td>13</td>\n",
       "    </tr>\n",
       "    <tr>\n",
       "      <th>9</th>\n",
       "      <td>(حکمرانی, آب)</td>\n",
       "      <td>12</td>\n",
       "    </tr>\n",
       "    <tr>\n",
       "      <th>10</th>\n",
       "      <td>(وزرای, پیشنهادی)</td>\n",
       "      <td>12</td>\n",
       "    </tr>\n",
       "    <tr>\n",
       "      <th>11</th>\n",
       "      <td>(میلیارد, دلار)</td>\n",
       "      <td>12</td>\n",
       "    </tr>\n",
       "    <tr>\n",
       "      <th>12</th>\n",
       "      <td>(خواهد, شد)</td>\n",
       "      <td>11</td>\n",
       "    </tr>\n",
       "    <tr>\n",
       "      <th>13</th>\n",
       "      <td>(وجود, دارد)</td>\n",
       "      <td>11</td>\n",
       "    </tr>\n",
       "    <tr>\n",
       "      <th>14</th>\n",
       "      <td>(وزیر, صمت)</td>\n",
       "      <td>10</td>\n",
       "    </tr>\n",
       "    <tr>\n",
       "      <th>15</th>\n",
       "      <td>(ایران, خودرو)</td>\n",
       "      <td>10</td>\n",
       "    </tr>\n",
       "    <tr>\n",
       "      <th>16</th>\n",
       "      <td>(نظر, میرسد)</td>\n",
       "      <td>9</td>\n",
       "    </tr>\n",
       "    <tr>\n",
       "      <th>17</th>\n",
       "      <td>(مدیریت, آب)</td>\n",
       "      <td>9</td>\n",
       "    </tr>\n",
       "    <tr>\n",
       "      <th>18</th>\n",
       "      <td>(سیستم, حکمرانی)</td>\n",
       "      <td>9</td>\n",
       "    </tr>\n",
       "    <tr>\n",
       "      <th>19</th>\n",
       "      <td>(رای, اعتماد)</td>\n",
       "      <td>9</td>\n",
       "    </tr>\n",
       "    <tr>\n",
       "      <th>20</th>\n",
       "      <td>(رشد, اقتصادی)</td>\n",
       "      <td>9</td>\n",
       "    </tr>\n",
       "    <tr>\n",
       "      <th>21</th>\n",
       "      <td>(تحت, تاثیر)</td>\n",
       "      <td>8</td>\n",
       "    </tr>\n",
       "    <tr>\n",
       "      <th>22</th>\n",
       "      <td>(خودروهای, فرسوده)</td>\n",
       "      <td>8</td>\n",
       "    </tr>\n",
       "    <tr>\n",
       "      <th>23</th>\n",
       "      <td>(وزارت, صنعت،)</td>\n",
       "      <td>8</td>\n",
       "    </tr>\n",
       "    <tr>\n",
       "      <th>24</th>\n",
       "      <td>(صنعت،, معدن)</td>\n",
       "      <td>8</td>\n",
       "    </tr>\n",
       "    <tr>\n",
       "      <th>25</th>\n",
       "      <td>(معدن, تجارت)</td>\n",
       "      <td>8</td>\n",
       "    </tr>\n",
       "    <tr>\n",
       "      <th>26</th>\n",
       "      <td>(واردات, خودرو)</td>\n",
       "      <td>8</td>\n",
       "    </tr>\n",
       "    <tr>\n",
       "      <th>27</th>\n",
       "      <td>(وجود, ندارد)</td>\n",
       "      <td>8</td>\n",
       "    </tr>\n",
       "    <tr>\n",
       "      <th>28</th>\n",
       "      <td>(تامین, انرژی)</td>\n",
       "      <td>7</td>\n",
       "    </tr>\n",
       "    <tr>\n",
       "      <th>29</th>\n",
       "      <td>(داشته, باشند)</td>\n",
       "      <td>7</td>\n",
       "    </tr>\n",
       "    <tr>\n",
       "      <th>30</th>\n",
       "      <td>(امنیت, آبی)</td>\n",
       "      <td>7</td>\n",
       "    </tr>\n",
       "    <tr>\n",
       "      <th>31</th>\n",
       "      <td>(مجلس, شورای)</td>\n",
       "      <td>7</td>\n",
       "    </tr>\n",
       "    <tr>\n",
       "      <th>32</th>\n",
       "      <td>(قیمت, پایه)</td>\n",
       "      <td>7</td>\n",
       "    </tr>\n",
       "    <tr>\n",
       "      <th>33</th>\n",
       "      <td>(رضایت, مشتریان)</td>\n",
       "      <td>6</td>\n",
       "    </tr>\n",
       "    <tr>\n",
       "      <th>34</th>\n",
       "      <td>(همین, دلیل)</td>\n",
       "      <td>6</td>\n",
       "    </tr>\n",
       "    <tr>\n",
       "      <th>35</th>\n",
       "      <td>(عرضه, تقاضا)</td>\n",
       "      <td>6</td>\n",
       "    </tr>\n",
       "    <tr>\n",
       "      <th>36</th>\n",
       "      <td>(هزار, تن)</td>\n",
       "      <td>6</td>\n",
       "    </tr>\n",
       "    <tr>\n",
       "      <th>37</th>\n",
       "      <td>(صمت, سیزدهم)</td>\n",
       "      <td>6</td>\n",
       "    </tr>\n",
       "    <tr>\n",
       "      <th>38</th>\n",
       "      <td>(چهار, ماه)</td>\n",
       "      <td>6</td>\n",
       "    </tr>\n",
       "    <tr>\n",
       "      <th>39</th>\n",
       "      <td>(مدت, مشابه)</td>\n",
       "      <td>6</td>\n",
       "    </tr>\n",
       "    <tr>\n",
       "      <th>40</th>\n",
       "      <td>(مشابه, سال)</td>\n",
       "      <td>6</td>\n",
       "    </tr>\n",
       "    <tr>\n",
       "      <th>41</th>\n",
       "      <td>(حدود, درصد)</td>\n",
       "      <td>6</td>\n",
       "    </tr>\n",
       "    <tr>\n",
       "      <th>42</th>\n",
       "      <td>(کمبود, منابع)</td>\n",
       "      <td>6</td>\n",
       "    </tr>\n",
       "    <tr>\n",
       "      <th>43</th>\n",
       "      <td>(قطعی, برق)</td>\n",
       "      <td>6</td>\n",
       "    </tr>\n",
       "    <tr>\n",
       "      <th>44</th>\n",
       "      <td>(سراسر, جهان)</td>\n",
       "      <td>6</td>\n",
       "    </tr>\n",
       "  </tbody>\n",
       "</table>\n",
       "</div>"
      ],
      "text/plain": [
       "                Bigram  Count\n",
       "0         (بورس, کالا)     26\n",
       "1      (قیمتهای, پایه)     21\n",
       "2        (نشان, میدهد)     19\n",
       "3        (فاطمی, امین)     18\n",
       "4         (سال, گذشته)     17\n",
       "5         (خواهد, بود)     15\n",
       "6       (بازار, سیمان)     14\n",
       "7        (داشته, باشد)     13\n",
       "8        (تامین, مالی)     13\n",
       "9        (حکمرانی, آب)     12\n",
       "10   (وزرای, پیشنهادی)     12\n",
       "11     (میلیارد, دلار)     12\n",
       "12         (خواهد, شد)     11\n",
       "13        (وجود, دارد)     11\n",
       "14         (وزیر, صمت)     10\n",
       "15      (ایران, خودرو)     10\n",
       "16        (نظر, میرسد)      9\n",
       "17        (مدیریت, آب)      9\n",
       "18    (سیستم, حکمرانی)      9\n",
       "19       (رای, اعتماد)      9\n",
       "20      (رشد, اقتصادی)      9\n",
       "21        (تحت, تاثیر)      8\n",
       "22  (خودروهای, فرسوده)      8\n",
       "23      (وزارت, صنعت،)      8\n",
       "24       (صنعت،, معدن)      8\n",
       "25       (معدن, تجارت)      8\n",
       "26     (واردات, خودرو)      8\n",
       "27       (وجود, ندارد)      8\n",
       "28      (تامین, انرژی)      7\n",
       "29      (داشته, باشند)      7\n",
       "30        (امنیت, آبی)      7\n",
       "31       (مجلس, شورای)      7\n",
       "32        (قیمت, پایه)      7\n",
       "33    (رضایت, مشتریان)      6\n",
       "34        (همین, دلیل)      6\n",
       "35       (عرضه, تقاضا)      6\n",
       "36          (هزار, تن)      6\n",
       "37       (صمت, سیزدهم)      6\n",
       "38         (چهار, ماه)      6\n",
       "39        (مدت, مشابه)      6\n",
       "40        (مشابه, سال)      6\n",
       "41        (حدود, درصد)      6\n",
       "42      (کمبود, منابع)      6\n",
       "43         (قطعی, برق)      6\n",
       "44       (سراسر, جهان)      6"
      ]
     },
     "execution_count": 16,
     "metadata": {},
     "output_type": "execute_result"
    }
   ],
   "source": [
    "df = pd.DataFrame(bigrams.collect())\n",
    "df.columns=['Bigram','Count']\n",
    "df"
   ]
  },
  {
   "cell_type": "code",
   "execution_count": 17,
   "metadata": {},
   "outputs": [],
   "source": [
    "spark.stop()"
   ]
  },
  {
   "cell_type": "code",
   "execution_count": null,
   "metadata": {},
   "outputs": [],
   "source": []
  }
 ],
 "metadata": {
  "kernelspec": {
   "display_name": "Python 3 (ipykernel)",
   "language": "python",
   "name": "python3"
  },
  "language_info": {
   "codemirror_mode": {
    "name": "ipython",
    "version": 3
   },
   "file_extension": ".py",
   "mimetype": "text/x-python",
   "name": "python",
   "nbconvert_exporter": "python",
   "pygments_lexer": "ipython3",
   "version": "3.8.10"
  }
 },
 "nbformat": 4,
 "nbformat_minor": 4
}
