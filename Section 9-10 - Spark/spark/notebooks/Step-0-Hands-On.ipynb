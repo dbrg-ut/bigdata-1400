{
 "cells": [
  {
   "cell_type": "code",
   "execution_count": 1,
   "metadata": {},
   "outputs": [],
   "source": [
    "import findspark\n",
    "\n",
    "findspark.init()"
   ]
  },
  {
   "cell_type": "code",
   "execution_count": 2,
   "metadata": {},
   "outputs": [],
   "source": [
    "import pyspark\n",
    "\n",
    "from pyspark.sql import SparkSession"
   ]
  },
  {
   "cell_type": "code",
   "execution_count": 3,
   "metadata": {},
   "outputs": [
    {
     "name": "stderr",
     "output_type": "stream",
     "text": [
      "21/08/21 20:26:52 WARN Utils: Your hostname, DESKTOP-HSK5ETQ resolves to a loopback address: 127.0.1.1; using 172.17.200.170 instead (on interface eth0)\n",
      "21/08/21 20:26:52 WARN Utils: Set SPARK_LOCAL_IP if you need to bind to another address\n",
      "WARNING: An illegal reflective access operation has occurred\n",
      "WARNING: Illegal reflective access by org.apache.spark.unsafe.Platform (file:/mnt/c/Users/Administrator/Desktop/17/spark/spark-head/jars/spark-unsafe_2.12-3.1.2.jar) to constructor java.nio.DirectByteBuffer(long,int)\n",
      "WARNING: Please consider reporting this to the maintainers of org.apache.spark.unsafe.Platform\n",
      "WARNING: Use --illegal-access=warn to enable warnings of further illegal reflective access operations\n",
      "WARNING: All illegal access operations will be denied in a future release\n",
      "21/08/21 20:26:56 WARN NativeCodeLoader: Unable to load native-hadoop library for your platform... using builtin-java classes where applicable\n",
      "Using Spark's default log4j profile: org/apache/spark/log4j-defaults.properties\n",
      "Setting default log level to \"WARN\".\n",
      "To adjust logging level use sc.setLogLevel(newLevel). For SparkR, use setLogLevel(newLevel).\n"
     ]
    }
   ],
   "source": [
    "spark=SparkSession.builder.master('spark://DESKTOP-HSK5ETQ.localdomain:7077').appName('Step0-Hands-On').getOrCreate()"
   ]
  },
  {
   "cell_type": "code",
   "execution_count": 7,
   "metadata": {
    "scrolled": true
   },
   "outputs": [
    {
     "name": "stdout",
     "output_type": "stream",
     "text": [
      "[0, 2, 3, 4, 6, 7, 8, 9, 10, 12, 13, 14, 15, 16, 17, 19, 21, 22, 23, 24, 25, 26, 27, 28, 29, 30, 31, 33, 34, 35, 36, 37, 38, 39, 40, 41, 42, 46, 49, 50, 51, 52, 53, 54, 55, 56, 57, 58, 59, 61, 63, 64, 65, 66, 67, 69, 70, 71, 73, 74, 75, 76, 77, 78, 79, 80, 81, 82, 83, 84, 85, 86, 87, 88, 90, 91, 92, 93, 94, 95, 96, 98, 99]\n",
      "--------------------------------------------------\n",
      "Pi is roughly 3.32\n"
     ]
    }
   ],
   "source": [
    "import random\n",
    "\n",
    "NUM_SAMPLES=100\n",
    "\n",
    "def inside(p):\n",
    "    x,y = random.random(), random.random()\n",
    "    return x*x + y*y < 1\n",
    "\n",
    "data_rdd = spark.sparkContext.parallelize(range(0,NUM_SAMPLES)).filter(inside)\n",
    "data = data_rdd.collect()\n",
    "print(data)\n",
    "print(\"-\"*50)\n",
    "print('Pi is roughly {}'.format(4.0 * len(data) / NUM_SAMPLES))"
   ]
  },
  {
   "cell_type": "code",
   "execution_count": 8,
   "metadata": {},
   "outputs": [
    {
     "data": {
      "text/plain": [
       "8"
      ]
     },
     "execution_count": 8,
     "metadata": {},
     "output_type": "execute_result"
    }
   ],
   "source": [
    "data_rdd.getNumPartitions()"
   ]
  },
  {
   "cell_type": "markdown",
   "metadata": {},
   "source": [
    "### Number of Partitions"
   ]
  },
  {
   "cell_type": "code",
   "execution_count": 9,
   "metadata": {},
   "outputs": [
    {
     "name": "stdout",
     "output_type": "stream",
     "text": [
      "PythonRDD[9] at RDD at PythonRDD.scala:53\n",
      "--------------------------------------------------\n",
      "[1, 2, 4, 6, 8, 9, 10, 12, 14, 15, 16, 18, 19, 20, 21, 23, 24, 25, 26, 27, 28, 29, 30, 32, 34, 35, 36, 38, 39, 40, 41, 42, 43, 44, 45, 46, 48, 49, 50, 51, 52, 55, 56, 58, 60, 61, 62, 63, 64, 65, 66, 67, 68, 69, 70, 72, 74, 75, 76, 77, 79, 80, 82, 84, 86, 87, 89, 90, 91, 92, 94, 95, 96, 97, 98, 99]\n",
      "--------------------------------------------------\n",
      "Pi is roughly 3.04\n",
      "--------------------------------------------------\n",
      "# Partitions : 12\n"
     ]
    }
   ],
   "source": [
    "data_rdd = spark.sparkContext.parallelize(range(0,NUM_SAMPLES),12).filter(inside)\n",
    "print(data_rdd)\n",
    "print(\"-\"*50)\n",
    "data = data_rdd.collect()\n",
    "print(data)\n",
    "print(\"-\"*50)\n",
    "print('Pi is roughly {}'.format(4.0 * len(data) / NUM_SAMPLES))\n",
    "print(\"-\"*50)\n",
    "print(f\"# Partitions : {data_rdd.getNumPartitions()}\")"
   ]
  },
  {
   "cell_type": "markdown",
   "metadata": {},
   "source": [
    "### Some Basic RDD Operations"
   ]
  },
  {
   "cell_type": "code",
   "execution_count": 10,
   "metadata": {},
   "outputs": [
    {
     "data": {
      "text/plain": [
       "'3.1.2'"
      ]
     },
     "execution_count": 10,
     "metadata": {},
     "output_type": "execute_result"
    }
   ],
   "source": [
    "spark.version"
   ]
  },
  {
   "cell_type": "code",
   "execution_count": 18,
   "metadata": {},
   "outputs": [],
   "source": [
    "numbers = range(0,100)\n",
    "\n",
    "numbers_rdd= spark.sparkContext.parallelize(numbers,4)"
   ]
  },
  {
   "cell_type": "code",
   "execution_count": 12,
   "metadata": {},
   "outputs": [
    {
     "name": "stdout",
     "output_type": "stream",
     "text": [
      "Help on method parallelize in module pyspark.context:\n",
      "\n",
      "parallelize(c, numSlices=None) method of pyspark.context.SparkContext instance\n",
      "    Distribute a local Python collection to form an RDD. Using range\n",
      "    is recommended if the input represents a range for performance.\n",
      "    \n",
      "    Examples\n",
      "    --------\n",
      "    >>> sc.parallelize([0, 2, 3, 4, 6], 5).glom().collect()\n",
      "    [[0], [2], [3], [4], [6]]\n",
      "    >>> sc.parallelize(range(0, 6, 2), 5).glom().collect()\n",
      "    [[], [0], [], [2], [4]]\n",
      "\n"
     ]
    }
   ],
   "source": [
    "help(spark.sparkContext.parallelize)"
   ]
  },
  {
   "cell_type": "code",
   "execution_count": 13,
   "metadata": {},
   "outputs": [
    {
     "name": "stdout",
     "output_type": "stream",
     "text": [
      "Help on method glom in module pyspark.rdd:\n",
      "\n",
      "glom() method of pyspark.rdd.PipelinedRDD instance\n",
      "    Return an RDD created by coalescing all elements within each partition\n",
      "    into a list.\n",
      "    \n",
      "    Examples\n",
      "    --------\n",
      "    >>> rdd = sc.parallelize([1, 2, 3, 4], 2)\n",
      "    >>> sorted(rdd.glom().collect())\n",
      "    [[1, 2], [3, 4]]\n",
      "\n"
     ]
    }
   ],
   "source": [
    "help(numbers_rdd.glom)"
   ]
  },
  {
   "cell_type": "code",
   "execution_count": 21,
   "metadata": {},
   "outputs": [
    {
     "name": "stdout",
     "output_type": "stream",
     "text": [
      "4\n"
     ]
    },
    {
     "data": {
      "text/plain": [
       "[[0, 6, 12, 18, 24], [30, 36, 42, 48], [54, 60, 66, 72], [78, 84, 90, 96]]"
      ]
     },
     "execution_count": 21,
     "metadata": {},
     "output_type": "execute_result"
    }
   ],
   "source": [
    "numbers_rdd2= numbers_rdd.filter(lambda x: x%3==0 and x%2==0).glom()\n",
    "numbers_rdd2.collect()"
   ]
  },
  {
   "cell_type": "code",
   "execution_count": 17,
   "metadata": {},
   "outputs": [
    {
     "data": {
      "text/plain": [
       "[[0, 6],\n",
       " [12, 18],\n",
       " [24],\n",
       " [30, 36],\n",
       " [42, 48],\n",
       " [54],\n",
       " [60, 66],\n",
       " [72, 78],\n",
       " [84],\n",
       " [90, 96]]"
      ]
     },
     "execution_count": 17,
     "metadata": {},
     "output_type": "execute_result"
    }
   ],
   "source": [
    "numbers_rdd3= spark.sparkContext.parallelize(numbers,10)\n",
    "numbers_rdd4= numbers_rdd3.filter(lambda x: x%3==0 and x%2==0).glom()\n",
    "numbers_rdd4.collect()"
   ]
  },
  {
   "cell_type": "markdown",
   "metadata": {},
   "source": [
    "#### coalesce\n"
   ]
  },
  {
   "cell_type": "code",
   "execution_count": 26,
   "metadata": {},
   "outputs": [
    {
     "data": {
      "text/plain": [
       "[[0, 6, 12, 18, 24, 30, 36, 42, 48], [54, 60, 66, 72, 78, 84, 90, 96]]"
      ]
     },
     "execution_count": 26,
     "metadata": {},
     "output_type": "execute_result"
    }
   ],
   "source": [
    "numbers_rdd5= numbers_rdd3.filter(lambda x: x%3==0 and x%2==0).coalesce(2).glom()\n",
    "\n",
    "numbers_rdd5.collect()"
   ]
  },
  {
   "cell_type": "code",
   "execution_count": 52,
   "metadata": {},
   "outputs": [
    {
     "name": "stdout",
     "output_type": "stream",
     "text": [
      "Help on method coalesce in module pyspark.rdd:\n",
      "\n",
      "coalesce(numPartitions, shuffle=False) method of pyspark.rdd.PipelinedRDD instance\n",
      "    Return a new RDD that is reduced into `numPartitions` partitions.\n",
      "    \n",
      "    Examples\n",
      "    --------\n",
      "    >>> sc.parallelize([1, 2, 3, 4, 5], 3).glom().collect()\n",
      "    [[1], [2, 3], [4, 5]]\n",
      "    >>> sc.parallelize([1, 2, 3, 4, 5], 3).coalesce(1).glom().collect()\n",
      "    [[1, 2, 3, 4, 5]]\n",
      "\n"
     ]
    }
   ],
   "source": [
    "help(numbers_rdd.coalesce)"
   ]
  },
  {
   "cell_type": "markdown",
   "metadata": {},
   "source": [
    "#### setName"
   ]
  },
  {
   "cell_type": "code",
   "execution_count": 24,
   "metadata": {},
   "outputs": [
    {
     "data": {
      "text/plain": [
       "Numbers_100_%6==0 PythonRDD[22] at collect at /tmp/ipykernel_31894/2685983768.py:3"
      ]
     },
     "execution_count": 24,
     "metadata": {},
     "output_type": "execute_result"
    }
   ],
   "source": [
    "numbers_rdd5.setName(\"Numbers_100_%6==0\")"
   ]
  },
  {
   "cell_type": "code",
   "execution_count": 27,
   "metadata": {},
   "outputs": [
    {
     "data": {
      "text/plain": [
       "25"
      ]
     },
     "execution_count": 27,
     "metadata": {},
     "output_type": "execute_result"
    }
   ],
   "source": [
    "numbers_rdd5.id()"
   ]
  },
  {
   "cell_type": "markdown",
   "metadata": {},
   "source": [
    "### Get RDD Objects"
   ]
  },
  {
   "cell_type": "code",
   "execution_count": 28,
   "metadata": {},
   "outputs": [
    {
     "data": {
      "text/plain": [
       "0"
      ]
     },
     "execution_count": 28,
     "metadata": {},
     "output_type": "execute_result"
    }
   ],
   "source": [
    "numbers_rdd.first()"
   ]
  },
  {
   "cell_type": "code",
   "execution_count": 31,
   "metadata": {},
   "outputs": [
    {
     "data": {
      "text/plain": [
       "[[54, 60, 66, 72, 78, 84, 90, 96]]"
      ]
     },
     "execution_count": 31,
     "metadata": {},
     "output_type": "execute_result"
    }
   ],
   "source": [
    "numbers_rdd5.top(1)"
   ]
  },
  {
   "cell_type": "code",
   "execution_count": 65,
   "metadata": {},
   "outputs": [
    {
     "data": {
      "text/plain": [
       "[0, 1, 2, 3, 4, 5, 6, 7, 8, 9]"
      ]
     },
     "execution_count": 65,
     "metadata": {},
     "output_type": "execute_result"
    }
   ],
   "source": [
    "numbers_rdd.take(10)"
   ]
  },
  {
   "cell_type": "code",
   "execution_count": 166,
   "metadata": {},
   "outputs": [
    {
     "data": {
      "text/plain": [
       "[99, 98, 97, 96, 95, 94, 93, 92, 91, 90]"
      ]
     },
     "execution_count": 166,
     "metadata": {},
     "output_type": "execute_result"
    }
   ],
   "source": [
    "numbers_rdd.top(10)"
   ]
  },
  {
   "cell_type": "code",
   "execution_count": 67,
   "metadata": {},
   "outputs": [
    {
     "data": {
      "text/plain": [
       "[0, 1, 2, 3, 4, 5, 6, 7, 8, 9]"
      ]
     },
     "execution_count": 67,
     "metadata": {},
     "output_type": "execute_result"
    }
   ],
   "source": [
    "numbers_rdd.takeOrdered(10)"
   ]
  },
  {
   "cell_type": "code",
   "execution_count": 66,
   "metadata": {},
   "outputs": [
    {
     "name": "stdout",
     "output_type": "stream",
     "text": [
      "Help on method takeOrdered in module pyspark.rdd:\n",
      "\n",
      "takeOrdered(num, key=None) method of pyspark.rdd.PipelinedRDD instance\n",
      "    Get the N elements from an RDD ordered in ascending order or as\n",
      "    specified by the optional key function.\n",
      "    \n",
      "    Notes\n",
      "    -----\n",
      "    This method should only be used if the resulting array is expected\n",
      "    to be small, as all the data is loaded into the driver's memory.\n",
      "    \n",
      "    Examples\n",
      "    --------\n",
      "    >>> sc.parallelize([10, 1, 2, 9, 3, 4, 5, 6, 7]).takeOrdered(6)\n",
      "    [1, 2, 3, 4, 5, 6]\n",
      "    >>> sc.parallelize([10, 1, 2, 9, 3, 4, 5, 6, 7], 2).takeOrdered(6, key=lambda x: -x)\n",
      "    [10, 9, 7, 6, 5, 4]\n",
      "\n"
     ]
    }
   ],
   "source": [
    "help(numbers_rdd.takeOrdered)"
   ]
  },
  {
   "cell_type": "code",
   "execution_count": 68,
   "metadata": {},
   "outputs": [
    {
     "data": {
      "text/plain": [
       "[99, 98, 97, 96, 95, 94, 93, 92, 91, 90]"
      ]
     },
     "execution_count": 68,
     "metadata": {},
     "output_type": "execute_result"
    }
   ],
   "source": [
    "numbers_rdd.takeOrdered(10,key=lambda x : -x)"
   ]
  },
  {
   "cell_type": "code",
   "execution_count": 66,
   "metadata": {},
   "outputs": [
    {
     "data": {
      "text/plain": [
       "[[0, 6],\n",
       " [12, 18],\n",
       " [30, 36],\n",
       " [42, 48],\n",
       " [60, 66],\n",
       " [72, 78],\n",
       " [90, 96],\n",
       " [24],\n",
       " [54],\n",
       " [84]]"
      ]
     },
     "execution_count": 66,
     "metadata": {},
     "output_type": "execute_result"
    }
   ],
   "source": [
    "numbers_rdd4.takeOrdered(10,key=lambda x : len(x))"
   ]
  },
  {
   "cell_type": "code",
   "execution_count": 71,
   "metadata": {},
   "outputs": [
    {
     "data": {
      "text/plain": [
       "[[90, 96],\n",
       " [84],\n",
       " [72, 78],\n",
       " [60, 66],\n",
       " [54],\n",
       " [42, 48],\n",
       " [30, 36],\n",
       " [24],\n",
       " [12, 18],\n",
       " [0, 6]]"
      ]
     },
     "execution_count": 71,
     "metadata": {},
     "output_type": "execute_result"
    }
   ],
   "source": [
    "numbers_rdd4.takeOrdered(10,key=lambda x : -x[-1])"
   ]
  },
  {
   "cell_type": "code",
   "execution_count": 71,
   "metadata": {},
   "outputs": [
    {
     "data": {
      "text/plain": [
       "[1, 49, 70, 72, 84]"
      ]
     },
     "execution_count": 71,
     "metadata": {},
     "output_type": "execute_result"
    }
   ],
   "source": [
    "numbers_rdd.sample(withReplacement=False, fraction=0.1).collect()"
   ]
  },
  {
   "cell_type": "markdown",
   "metadata": {},
   "source": [
    "### Arithmetic Functions"
   ]
  },
  {
   "cell_type": "code",
   "execution_count": 72,
   "metadata": {},
   "outputs": [
    {
     "data": {
      "text/plain": [
       "100"
      ]
     },
     "execution_count": 72,
     "metadata": {},
     "output_type": "execute_result"
    }
   ],
   "source": [
    "numbers_rdd.count()"
   ]
  },
  {
   "cell_type": "code",
   "execution_count": 73,
   "metadata": {},
   "outputs": [
    {
     "data": {
      "text/plain": [
       "[2, 3, 5, 7, 11, 13, 17, 19, 23, 29]"
      ]
     },
     "execution_count": 73,
     "metadata": {},
     "output_type": "execute_result"
    }
   ],
   "source": [
    "def isPrime(n) :\n",
    "    prime=True\n",
    "    if n==0 or n==1 :\n",
    "        return False\n",
    "    for i in range(2, n//2+1) :\n",
    "        if n%i == 0 :\n",
    "            prime=False\n",
    "            break\n",
    "    return prime\n",
    "numbers_rdd.filter(isPrime).take(10)"
   ]
  },
  {
   "cell_type": "code",
   "execution_count": 74,
   "metadata": {},
   "outputs": [
    {
     "data": {
      "text/plain": [
       "2"
      ]
     },
     "execution_count": 74,
     "metadata": {},
     "output_type": "execute_result"
    }
   ],
   "source": [
    "numbers_rdd.filter(isPrime).min()"
   ]
  },
  {
   "cell_type": "code",
   "execution_count": 75,
   "metadata": {},
   "outputs": [
    {
     "data": {
      "text/plain": [
       "97"
      ]
     },
     "execution_count": 75,
     "metadata": {},
     "output_type": "execute_result"
    }
   ],
   "source": [
    "numbers_rdd.filter(isPrime).max()"
   ]
  },
  {
   "cell_type": "code",
   "execution_count": 76,
   "metadata": {},
   "outputs": [
    {
     "data": {
      "text/plain": [
       "42.4"
      ]
     },
     "execution_count": 76,
     "metadata": {},
     "output_type": "execute_result"
    }
   ],
   "source": [
    "numbers_rdd.filter(isPrime).mean()"
   ]
  },
  {
   "cell_type": "code",
   "execution_count": 77,
   "metadata": {},
   "outputs": [
    {
     "data": {
      "text/plain": [
       "[4, 0, 2, 0, 0, 0, 2, 2, 1, 1]"
      ]
     },
     "execution_count": 77,
     "metadata": {},
     "output_type": "execute_result"
    }
   ],
   "source": [
    "my_list= [ random.randint(0,4) for x in range(0,10)]\n",
    "my_list"
   ]
  },
  {
   "cell_type": "code",
   "execution_count": 78,
   "metadata": {},
   "outputs": [
    {
     "data": {
      "text/plain": [
       "defaultdict(int, {4: 1, 0: 4, 2: 3, 1: 2})"
      ]
     },
     "execution_count": 78,
     "metadata": {},
     "output_type": "execute_result"
    }
   ],
   "source": [
    "mylist_rdd= spark.sparkContext.parallelize(my_list,2)\n",
    "mylist_rdd.countByValue()"
   ]
  },
  {
   "cell_type": "markdown",
   "metadata": {},
   "source": [
    "### map / flatMap     "
   ]
  },
  {
   "cell_type": "code",
   "execution_count": 81,
   "metadata": {},
   "outputs": [
    {
     "data": {
      "text/plain": [
       "[(1, 't'), (2, 'b'), (3, 'r')]"
      ]
     },
     "execution_count": 81,
     "metadata": {},
     "output_type": "execute_result"
    }
   ],
   "source": [
    "tuple_list = [(1,'t'),(2,'b'),(3,'r')]\n",
    "tuple_rdd= spark.sparkContext.parallelize(tuple_list,2)\n",
    "\n",
    "tuple_rdd.collect()\n"
   ]
  },
  {
   "cell_type": "code",
   "execution_count": 129,
   "metadata": {},
   "outputs": [
    {
     "data": {
      "text/plain": [
       "[(1, 't'), (4, 'b'), (9, 'r')]"
      ]
     },
     "execution_count": 129,
     "metadata": {},
     "output_type": "execute_result"
    }
   ],
   "source": [
    "tuple_rdd.map(lambda x: (x[0]**2,x[1])).collect()"
   ]
  },
  {
   "cell_type": "code",
   "execution_count": 130,
   "metadata": {},
   "outputs": [
    {
     "data": {
      "text/plain": [
       "['ttt', 'bbb', 'rrr']"
      ]
     },
     "execution_count": 130,
     "metadata": {},
     "output_type": "execute_result"
    }
   ],
   "source": [
    "tuple_rdd.map(lambda x: x[1]*3).collect()"
   ]
  },
  {
   "cell_type": "code",
   "execution_count": 40,
   "metadata": {},
   "outputs": [
    {
     "data": {
      "text/plain": [
       "[('tttttttttt', 10, 1), ('bbbb', 4, 2), ('rrrrrrrr', 8, 3)]"
      ]
     },
     "execution_count": 40,
     "metadata": {},
     "output_type": "execute_result"
    }
   ],
   "source": [
    "import random\n",
    "def test(x) : \n",
    "    x0 = x[1] * random.randint(1,10)\n",
    "    x1 = len(x0)\n",
    "    return (x0,x1, x[0])\n",
    "\n",
    "tuple_rdd.map(test).collect()"
   ]
  },
  {
   "cell_type": "markdown",
   "metadata": {},
   "source": [
    "flatMap : \n",
    "\n",
    "Return a new RDD by first applying a function to all elements of this RDD, and then flattening the results.\n",
    "\n"
   ]
  },
  {
   "cell_type": "code",
   "execution_count": 60,
   "metadata": {},
   "outputs": [
    {
     "data": {
      "text/plain": [
       "[[13, 9, 18], [1, 13, 12], [17, 16, 4, 2]]"
      ]
     },
     "execution_count": 60,
     "metadata": {},
     "output_type": "execute_result"
    }
   ],
   "source": [
    "numbers_random= spark.sparkContext.parallelize([random.randint(0,20) for x in range(10)], 3)\n",
    "numbers_random.glom().collect()"
   ]
  },
  {
   "cell_type": "code",
   "execution_count": 65,
   "metadata": {},
   "outputs": [
    {
     "data": {
      "text/plain": [
       "[13, 9, 18, 1, 13, 12, 17, 16, 4, 2]"
      ]
     },
     "execution_count": 65,
     "metadata": {},
     "output_type": "execute_result"
    }
   ],
   "source": [
    "numbers_random.glom().flatMap(lambda x: x).collect()"
   ]
  },
  {
   "cell_type": "code",
   "execution_count": 164,
   "metadata": {},
   "outputs": [
    {
     "data": {
      "text/plain": [
       "[1, 't', 4, 'b', 9, 'r']"
      ]
     },
     "execution_count": 164,
     "metadata": {},
     "output_type": "execute_result"
    }
   ],
   "source": [
    "tuple_rdd.flatMap(lambda x: (x[0]**2,x[1])).collect()"
   ]
  },
  {
   "cell_type": "code",
   "execution_count": 165,
   "metadata": {},
   "outputs": [
    {
     "data": {
      "text/plain": [
       "[4, 'b', 9, 'r']"
      ]
     },
     "execution_count": 165,
     "metadata": {},
     "output_type": "execute_result"
    }
   ],
   "source": [
    "tuple_rdd.filter(lambda x : x[0]>1).flatMap(lambda x: (x[0]**2,x[1])).collect()"
   ]
  },
  {
   "cell_type": "markdown",
   "metadata": {},
   "source": [
    "#### reduce / reduceBy"
   ]
  },
  {
   "attachments": {
    "image.png": {
     "image/png": "[encoded data removed]"
    }
   },
   "cell_type": "markdown",
   "metadata": {},
   "source": [
    "![image.png](attachment:image.png)"
   ]
  },
  {
   "cell_type": "code",
   "execution_count": 85,
   "metadata": {},
   "outputs": [
    {
     "name": "stdout",
     "output_type": "stream",
     "text": [
      "[[4], [7], [23], [30]]\n"
     ]
    },
    {
     "data": {
      "text/plain": [
       "10"
      ]
     },
     "execution_count": 85,
     "metadata": {},
     "output_type": "execute_result"
    }
   ],
   "source": [
    "# from math import abs\n",
    "def dif(a,b) :\n",
    "    return abs(a-b)\n",
    "\n",
    "numbers_new = [4,7,23,30]\n",
    "numbers_new_rdd = spark.sparkContext.parallelize(numbers_new,4)\n",
    "\n",
    "t = numbers_new_rdd.glom().collect()\n",
    "print(t)\n",
    "numbers_new_rdd.reduce(dif)\n"
   ]
  },
  {
   "cell_type": "code",
   "execution_count": 88,
   "metadata": {},
   "outputs": [
    {
     "name": "stdout",
     "output_type": "stream",
     "text": [
      "[[4], [7], [23, 30]]\n"
     ]
    },
    {
     "data": {
      "text/plain": [
       "64"
      ]
     },
     "execution_count": 88,
     "metadata": {},
     "output_type": "execute_result"
    }
   ],
   "source": [
    "def add(a,b) :\n",
    "    return a+b\n",
    "\n",
    "numbers_new = [4,7,23,30]\n",
    "numbers_new_rdd = spark.sparkContext.parallelize(numbers_new,3)\n",
    "\n",
    "t = numbers_new_rdd.glom().collect()\n",
    "print(t)\n",
    "numbers_new_rdd.reduce(add)\n"
   ]
  },
  {
   "cell_type": "code",
   "execution_count": 212,
   "metadata": {},
   "outputs": [
    {
     "data": {
      "text/plain": [
       "64"
      ]
     },
     "execution_count": 212,
     "metadata": {},
     "output_type": "execute_result"
    }
   ],
   "source": [
    "numbers_new_rdd.fold(0,add)"
   ]
  },
  {
   "attachments": {
    "image.png": {
     "image/png": "[encoded data removed]"
    }
   },
   "cell_type": "markdown",
   "metadata": {},
   "source": [
    "![image.png](attachment:image.png)"
   ]
  },
  {
   "cell_type": "code",
   "execution_count": 89,
   "metadata": {},
   "outputs": [
    {
     "name": "stdout",
     "output_type": "stream",
     "text": [
      "[[('a', 10)], [('b', 5), ('a', 6)]]\n"
     ]
    },
    {
     "name": "stderr",
     "output_type": "stream",
     "text": [
      "\r",
      "[Stage 78:>                                                         (0 + 2) / 2]\r"
     ]
    },
    {
     "name": "stdout",
     "output_type": "stream",
     "text": [
      "[('b', <pyspark.resultiterable.ResultIterable object at 0x7f6302f32ca0>), ('a', <pyspark.resultiterable.ResultIterable object at 0x7f6302bd0430>)]\n"
     ]
    },
    {
     "name": "stderr",
     "output_type": "stream",
     "text": [
      "\r",
      "[Stage 79:>                                                         (0 + 2) / 2]\r",
      "\r",
      "                                                                                \r"
     ]
    }
   ],
   "source": [
    "paired_list = [('a',10), ('b',5), ('a',6)]\n",
    "paired_rdd = spark.sparkContext.parallelize(paired_list,2)\n",
    "print(paired_rdd.glom().collect())\n",
    "print(paired_rdd.groupByKey().collect())"
   ]
  },
  {
   "cell_type": "code",
   "execution_count": 221,
   "metadata": {},
   "outputs": [
    {
     "data": {
      "text/plain": [
       "[('b', 5), ('a', 16)]"
      ]
     },
     "execution_count": 221,
     "metadata": {},
     "output_type": "execute_result"
    }
   ],
   "source": [
    "paired_rdd.groupByKey().mapValues(lambda x : sum(x)).collect()"
   ]
  },
  {
   "cell_type": "code",
   "execution_count": 223,
   "metadata": {
    "scrolled": true
   },
   "outputs": [
    {
     "name": "stdout",
     "output_type": "stream",
     "text": [
      "(2) PythonRDD[375] at RDD at PythonRDD.scala:53 []\n",
      " |  MapPartitionsRDD[374] at mapPartitions at PythonRDD.scala:145 []\n",
      " |  ShuffledRDD[373] at partitionBy at NativeMethodAccessorImpl.java:0 []\n",
      " +-(2) PairwiseRDD[372] at groupByKey at /tmp/ipykernel_6917/3111636202.py:1 []\n",
      "    |  PythonRDD[371] at groupByKey at /tmp/ipykernel_6917/3111636202.py:1 []\n",
      "    |  ParallelCollectionRDD[349] at readRDDFromFile at PythonRDD.scala:274 []\n"
     ]
    }
   ],
   "source": [
    "print(paired_rdd.groupByKey().mapValues(lambda x : sum(x)).toDebugString().decode('utf-8'))"
   ]
  },
  {
   "attachments": {
    "image.png": {
     "image/png": "[encoded data removed]"
    }
   },
   "cell_type": "markdown",
   "metadata": {},
   "source": [
    "![image.png](attachment:image.png)"
   ]
  },
  {
   "cell_type": "code",
   "execution_count": 231,
   "metadata": {},
   "outputs": [
    {
     "data": {
      "text/plain": [
       "[('b', 5), ('a', 16)]"
      ]
     },
     "execution_count": 231,
     "metadata": {},
     "output_type": "execute_result"
    }
   ],
   "source": [
    "paired_rdd.reduceByKey(add).collect()"
   ]
  },
  {
   "attachments": {
    "image.png": {
     "image/png": "[encoded data removed]"
    }
   },
   "cell_type": "markdown",
   "metadata": {},
   "source": [
    "![image.png](attachment:image.png)"
   ]
  },
  {
   "cell_type": "code",
   "execution_count": 232,
   "metadata": {},
   "outputs": [
    {
     "name": "stdout",
     "output_type": "stream",
     "text": [
      "(2) PythonRDD[418] at RDD at PythonRDD.scala:53 []\n",
      " |  MapPartitionsRDD[417] at mapPartitions at PythonRDD.scala:145 []\n",
      " |  ShuffledRDD[416] at partitionBy at NativeMethodAccessorImpl.java:0 []\n",
      " +-(2) PairwiseRDD[415] at reduceByKey at /tmp/ipykernel_6917/2925283463.py:1 []\n",
      "    |  PythonRDD[414] at reduceByKey at /tmp/ipykernel_6917/2925283463.py:1 []\n",
      "    |  ParallelCollectionRDD[349] at readRDDFromFile at PythonRDD.scala:274 []\n"
     ]
    }
   ],
   "source": [
    "print(paired_rdd.reduceByKey(add).toDebugString().decode('utf-8'))"
   ]
  },
  {
   "cell_type": "markdown",
   "metadata": {},
   "source": [
    "### cache"
   ]
  },
  {
   "cell_type": "code",
   "execution_count": 228,
   "metadata": {},
   "outputs": [
    {
     "name": "stdout",
     "output_type": "stream",
     "text": [
      "(2) PythonRDD[403] at RDD at PythonRDD.scala:53 []\n",
      " |  PythonRDD[401] at RDD at PythonRDD.scala:53 []\n",
      " |      CachedPartitions: 2; MemorySize: 287.0 B; DiskSize: 0.0 B\n",
      " |  MapPartitionsRDD[400] at mapPartitions at PythonRDD.scala:145 []\n",
      " |  ShuffledRDD[399] at partitionBy at NativeMethodAccessorImpl.java:0 []\n",
      " +-(2) PairwiseRDD[398] at groupByKey at /tmp/ipykernel_6917/1285620099.py:1 []\n",
      "    |  PythonRDD[397] at groupByKey at /tmp/ipykernel_6917/1285620099.py:1 []\n",
      "    |  ParallelCollectionRDD[349] at readRDDFromFile at PythonRDD.scala:274 []\n"
     ]
    }
   ],
   "source": [
    "new_rdd = paired_rdd.groupByKey()\n",
    "new_rdd.cache()\n",
    "new_rdd.mapValues(lambda x : sum(x)).collect()\n",
    "print(new_rdd.mapValues(lambda x : sum(x)).toDebugString().decode('utf-8'))"
   ]
  },
  {
   "cell_type": "code",
   "execution_count": 233,
   "metadata": {},
   "outputs": [
    {
     "name": "stdout",
     "output_type": "stream",
     "text": [
      "Memory Serialized 1x Replicated\n"
     ]
    }
   ],
   "source": [
    "print(new_rdd.getStorageLevel())"
   ]
  },
  {
   "cell_type": "code",
   "execution_count": 236,
   "metadata": {},
   "outputs": [
    {
     "name": "stdout",
     "output_type": "stream",
     "text": [
      "Disk Serialized 1x Replicated\n"
     ]
    }
   ],
   "source": [
    "from pyspark import StorageLevel\n",
    "new_rdd.unpersist()\n",
    "new_rdd.persist(StorageLevel.DISK_ONLY)\n",
    "print(new_rdd.getStorageLevel())"
   ]
  },
  {
   "cell_type": "markdown",
   "metadata": {},
   "source": [
    "DISK_ONLY = StorageLevel(True, False, False, False, 1)\n",
    "\n",
    "DISK_ONLY_2 = StorageLevel(True, False, False, False, 2)\n",
    "\n",
    "MEMORY_AND_DISK = StorageLevel(True, True, False, False, 1)\n",
    "\n",
    "MEMORY_AND_DISK_2 = StorageLevel(True, True, False, False, 2)\n",
    "\n",
    "MEMORY_AND_DISK_SER = StorageLevel(True, True, False, False, 1)\n",
    "\n",
    "MEMORY_AND_DISK_SER_2 = StorageLevel(True, True, False, False, 2)\n",
    "\n",
    "MEMORY_ONLY = StorageLevel(False, True, False, False, 1)\n",
    "\n",
    "MEMORY_ONLY_2 = StorageLevel(False, True, False, False, 2)\n",
    "\n",
    "MEMORY_ONLY_SER = StorageLevel(False, True, False, False, 1)\n",
    "\n",
    "MEMORY_ONLY_SER_2 = StorageLevel(False, True, False, False, 2)\n",
    "\n",
    "OFF_HEAP = StorageLevel(True, True, True, False, 1)"
   ]
  },
  {
   "cell_type": "markdown",
   "metadata": {},
   "source": [
    "### Working With Dataframes"
   ]
  },
  {
   "cell_type": "code",
   "execution_count": 237,
   "metadata": {},
   "outputs": [
    {
     "name": "stdout",
     "output_type": "stream",
     "text": [
      "+----+-----+-----------+\n",
      "| _c0|  _c1|        _c2|\n",
      "+----+-----+-----------+\n",
      "|Year|Score|      Title|\n",
      "|1968|   86|  Greetings|\n",
      "|1970|   17|Bloody Mama|\n",
      "|1970|   73|    Hi Mom!|\n",
      "|1971|   40|Born to Win|\n",
      "+----+-----+-----------+\n",
      "only showing top 5 rows\n",
      "\n"
     ]
    }
   ],
   "source": [
    "df = spark.read.csv('data/deniro.csv')\n",
    "\n",
    "df.show(5)"
   ]
  },
  {
   "cell_type": "code",
   "execution_count": 238,
   "metadata": {},
   "outputs": [
    {
     "name": "stdout",
     "output_type": "stream",
     "text": [
      "root\n",
      " |-- _c0: string (nullable = true)\n",
      " |-- _c1: string (nullable = true)\n",
      " |-- _c2: string (nullable = true)\n",
      "\n"
     ]
    }
   ],
   "source": [
    "df.printSchema()"
   ]
  },
  {
   "cell_type": "code",
   "execution_count": 90,
   "metadata": {},
   "outputs": [
    {
     "name": "stderr",
     "output_type": "stream",
     "text": [
      "[Stage 82:>                                                         (0 + 1) / 1]\r"
     ]
    },
    {
     "name": "stdout",
     "output_type": "stream",
     "text": [
      "+----+-----+--------------------+\n",
      "|Year|Score|               Title|\n",
      "+----+-----+--------------------+\n",
      "|1968|   86|           Greetings|\n",
      "|1970|   17|         Bloody Mama|\n",
      "|1970|   73|             Hi Mom!|\n",
      "|1971|   40|         Born to Win|\n",
      "|1973|   98|        Mean Streets|\n",
      "|1973|   88|Bang the Drum Slowly|\n",
      "|1974|   97|       The Godfather|\n",
      "|1976|   41|     The Last Tycoon|\n",
      "|1976|   99|         Taxi Driver|\n",
      "|1977|   47|                1900|\n",
      "+----+-----+--------------------+\n",
      "only showing top 10 rows\n",
      "\n"
     ]
    },
    {
     "name": "stderr",
     "output_type": "stream",
     "text": [
      "\r",
      "                                                                                \r"
     ]
    }
   ],
   "source": [
    "df = spark.read.csv('data/deniro.csv',header=True,inferSchema=True, )\n",
    "\n",
    "df.show(10)"
   ]
  },
  {
   "cell_type": "code",
   "execution_count": 240,
   "metadata": {},
   "outputs": [
    {
     "name": "stdout",
     "output_type": "stream",
     "text": [
      "root\n",
      " |-- Year: integer (nullable = true)\n",
      " |-- Score: integer (nullable = true)\n",
      " |-- Title: string (nullable = true)\n",
      "\n"
     ]
    }
   ],
   "source": [
    "df.printSchema()"
   ]
  },
  {
   "cell_type": "code",
   "execution_count": 92,
   "metadata": {},
   "outputs": [
    {
     "name": "stdout",
     "output_type": "stream",
     "text": [
      "+----+-----+--------------------+\n",
      "|Year|Score|               Title|\n",
      "+----+-----+--------------------+\n",
      "|1970|   17|         Bloody Mama|\n",
      "|1971|   40|         Born to Win|\n",
      "|1976|   41|     The Last Tycoon|\n",
      "|1977|   47|                1900|\n",
      "|1989|   47|     We're No Angels|\n",
      "|1990|   29|      Stanley & Iris|\n",
      "|1994|   39|Mary Shelley's Fr...|\n",
      "|1996|   38|             The Fan|\n",
      "|1998|   38|  Great Expectations|\n",
      "|1999|   43|            Flawless|\n",
      "|2000|   43|The Adventures of...|\n",
      "|2000|   41|        Men of Honor|\n",
      "|2001|   33|          15 Minutes|\n",
      "|2002|   48|     City by the Sea|\n",
      "|2002|   27|        Analyze That|\n",
      "|2003|    4|             Godsend|\n",
      "|2004|   35|          Shark Tale|\n",
      "|2004|   38|    Meet the Fockers|\n",
      "|2005|    4|The Bridge of San...|\n",
      "|2005|   46|                Rent|\n",
      "+----+-----+--------------------+\n",
      "only showing top 20 rows\n",
      "\n"
     ]
    }
   ],
   "source": [
    "df.filter(df['Score']<50).show()\n"
   ]
  },
  {
   "cell_type": "code",
   "execution_count": 93,
   "metadata": {},
   "outputs": [
    {
     "name": "stderr",
     "output_type": "stream",
     "text": [
      "\r",
      "[Stage 85:>                                                         (0 + 1) / 1]\r"
     ]
    },
    {
     "name": "stdout",
     "output_type": "stream",
     "text": [
      "+----------+\n",
      "|avg(Score)|\n",
      "+----------+\n",
      "|      70.5|\n",
      "+----------+\n",
      "\n"
     ]
    },
    {
     "name": "stderr",
     "output_type": "stream",
     "text": [
      "\r",
      "                                                                                \r"
     ]
    }
   ],
   "source": [
    "import pyspark.sql.functions as f\n",
    "df.filter(df['Year']<1980).select(f.avg('Score')).show()\n"
   ]
  },
  {
   "cell_type": "code",
   "execution_count": 94,
   "metadata": {},
   "outputs": [],
   "source": [
    "spark.stop()\n"
   ]
  }
 ],
 "metadata": {
  "kernelspec": {
   "display_name": "Python 3 (ipykernel)",
   "language": "python",
   "name": "python3"
  },
  "language_info": {
   "codemirror_mode": {
    "name": "ipython",
    "version": 3
   },
   "file_extension": ".py",
   "mimetype": "text/x-python",
   "name": "python",
   "nbconvert_exporter": "python",
   "pygments_lexer": "ipython3",
   "version": "3.8.10"
  }
 },
 "nbformat": 4,
 "nbformat_minor": 5
}
